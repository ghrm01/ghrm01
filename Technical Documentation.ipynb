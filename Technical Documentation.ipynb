{
  "metadata": {
    "language_info": {
      "codemirror_mode": {
        "name": "python",
        "version": 3
      },
      "file_extension": ".py",
      "mimetype": "text/x-python",
      "name": "python",
      "nbconvert_exporter": "python",
      "pygments_lexer": "ipython3",
      "version": "3.8"
    },
    "kernelspec": {
      "name": "python",
      "display_name": "Pyolite",
      "language": "python"
    }
  },
  "nbformat_minor": 4,
  "nbformat": 4,
  "cells": [
    {
      "cell_type": "code",
      "source": "def displayWelcomeMessage():\n    print(\"Welcome to the exciting journey of Cloud Computing\");\ndisplayWelcomeMessage()",
      "metadata": {
        "trusted": true
      },
      "execution_count": 3,
      "outputs": [
        {
          "name": "stdout",
          "text": "Welcome to the exciting journey of Cloud Computing\n",
          "output_type": "stream"
        }
      ]
    },
    {
      "cell_type": "markdown",
      "source": "## This page will capture the key learning on the cloud computing journey",
      "metadata": {}
    },
    {
      "cell_type": "markdown",
      "source": "### As part of learning, technical documentation is critical aspect and I will keep adding my learning here",
      "metadata": {}
    }
  ]
}